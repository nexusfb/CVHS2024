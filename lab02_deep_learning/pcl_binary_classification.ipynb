{
 "cells": [
  {
   "cell_type": "markdown",
   "metadata": {},
   "source": [
    "# Point Cloud Binary Classification with PyTorch"
   ]
  },
  {
   "cell_type": "markdown",
   "metadata": {},
   "source": [
    "Make sure you are using the `dl4cv` conda environment."
   ]
  },
  {
   "cell_type": "markdown",
   "metadata": {},
   "source": [
    "## Dataset loading and visualization"
   ]
  },
  {
   "cell_type": "markdown",
   "metadata": {},
   "source": [
    "The input X contain 100 2D points, and y are their corresponding labels (0 or 1). The goal is to train a model that can classify every point to its correct label.\n"
   ]
  },
  {
   "cell_type": "code",
   "execution_count": 1,
   "metadata": {},
   "outputs": [
    {
     "data": {
      "image/png": "[encoded data removed]",
      "text/plain": [
       "<Figure size 432x288 with 1 Axes>"
      ]
     },
     "metadata": {
      "needs_background": "light"
     },
     "output_type": "display_data"
    },
    {
     "data": {
      "text/plain": [
       "<Figure size 432x288 with 0 Axes>"
      ]
     },
     "metadata": {},
     "output_type": "display_data"
    }
   ],
   "source": [
    "%matplotlib inline\n",
    "import matplotlib.pyplot as plt\n",
    "import numpy as np\n",
    "import torch\n",
    "import torch.nn as nn\n",
    "import torch.nn.functional as F\n",
    "import torch.optim as optim\n",
    "from torch.utils.data import Dataset\n",
    "from torch.utils.data import DataLoader\n",
    "from torch.optim import Adam\n",
    "\n",
    "dataset = np.load('data/2d_pcl_dataset.npz')\n",
    "X, y = dataset['X'], dataset['y']\n",
    "\n",
    "X0 = X[y==0] # 50 2D points have label 0\n",
    "X1 = X[y==1] # 50 2D points have label 1\n",
    "\n",
    "def plot(X0, X1, fit_param=None):\n",
    "    plt.scatter(X0[:,0], X0[:,1], color='red', label=0)\n",
    "    plt.scatter(X1[:,0], X1[:,1], color='blue', label=1)\n",
    "    \n",
    "    plt.xlim([-0.55, 0.55])\n",
    "    plt.ylim([-0.35, 0.25])\n",
    "    plt.legend()\n",
    "    plt.show()\n",
    "    plt.clf()\n",
    "\n",
    "plot(X0, X1)"
   ]
  },
  {
   "cell_type": "markdown",
   "metadata": {},
   "source": [
    "## Logistic Regression for the point cloud classification task\n"
   ]
  },
  {
   "cell_type": "markdown",
   "metadata": {},
   "source": [
    "Starting by filling in the `Simple2DDataset` class below. First, in the class constructore `__init__`, you will need to read the right `2d_pcl_dataset.npz` from disk.\n",
    "\n",
    "Second, in the `__getitem__`, you will need to take a single data point and its label based on its index `idx`"
   ]
  },
  {
   "cell_type": "code",
   "execution_count": 2,
   "metadata": {},
   "outputs": [],
   "source": [
    "class Simple2DDataset(Dataset):\n",
    "    def __init__(self):\n",
    "        # Read from disk and initialize class, X = datapoints, y = labels.\n",
    "        super().__init__()\n",
    "        data = np.load('data/2d_pcl_dataset.npz')\n",
    "        self.X = data['X']\n",
    "        self.y = data['y']\n",
    "     \n",
    "    def __len__(self):\n",
    "        # Returns the number of samples in the dataset.\n",
    "        return self.X.shape[0]\n",
    "    \n",
    "    def __getitem__(self, idx):\n",
    "        # Return data point with index = idx and its label.\n",
    "        point = self.X[idx]\n",
    "        label = self.y[idx]\n",
    "        # Convert to tensor.\n",
    "        return torch.from_numpy(point).float(), \\\n",
    "               torch.from_numpy(label[np.newaxis]).float()\n"
   ]
  },
  {
   "cell_type": "markdown",
   "metadata": {},
   "source": [
    "With the complete `Simple2DDataset`, we can create a PyTorch dataloader\n",
    "\n",
    "**NOTE**: if you encounter some unexpected errors in data loading, try setting `NUM_WORKERS = 0`"
   ]
  },
  {
   "cell_type": "code",
   "execution_count": 3,
   "metadata": {},
   "outputs": [],
   "source": [
    "BATCH_SIZE = 8\n",
    "NUM_WORKERS = 0\n",
    "\n",
    "# create the dataloader\n",
    "dataset = Simple2DDataset()\n",
    "train_dataloader = DataLoader(\n",
    "    dataset,\n",
    "    batch_size=BATCH_SIZE,\n",
    "    num_workers=NUM_WORKERS,\n",
    "    shuffle=True\n",
    ")"
   ]
  },
  {
   "cell_type": "markdown",
   "metadata": {},
   "source": [
    "Now, define your first network by filling in the `LinearClassifier` class below.\n",
    "\n",
    "Add a single linear layer `nn.Linear` inside the `nn.Sequential` call. The input is 2D, and the output should be a single value, corresponding to the probability of a given 2D point being part of cluster 0."
   ]
  },
  {
   "cell_type": "code",
   "execution_count": 4,
   "metadata": {},
   "outputs": [],
   "source": [
    "class LinearClassifier(nn.Module):\n",
    "    def __init__(self):\n",
    "        super().__init__()\n",
    "\n",
    "        self.codename = 'linear'\n",
    "        self.model = nn.Sequential(nn.Linear(2,1))\n",
    "        \n",
    "    def forward(self, batch):\n",
    "        # Process batch using the defined model.\n",
    "        x = self.model(batch)\n",
    "        # Final sigmoid activation to obtain a probability between 0 and 1.\n",
    "        return torch.sigmoid(x)"
   ]
  },
  {
   "cell_type": "markdown",
   "metadata": {},
   "source": [
    "Now, you are asked to implement the training loop below"
   ]
  },
  {
   "cell_type": "code",
   "execution_count": 5,
   "metadata": {},
   "outputs": [],
   "source": [
    "def train(net, optimizer, dataloader, epoch):\n",
    "    net.train()\n",
    "    loss_sum = 0\n",
    "    for batch_idx, (point, label) in enumerate(dataloader):\n",
    "        # First we need to zero the gradient, otherwise PyTorch would accumulate them\n",
    "        optimizer.zero_grad()\n",
    "        # 1. forward pass of the network to obtain the predictions given the batch\n",
    "        y_pred = net(point)\n",
    "        # 2. compute the loss using F.binary_cross_entropy\n",
    "        loss = F.binary_cross_entropy(y_pred, label)\n",
    "        # 3. backward pass on the loss using loss.backward(), and one step \n",
    "        # of gradient descent (optimization) using optimizer.step()\n",
    "        loss.backward()\n",
    "        optimizer.step()\n",
    "\n",
    "        loss_sum += loss.item()\n",
    "    return loss_sum\n",
    "        "
   ]
  },
  {
   "cell_type": "markdown",
   "metadata": {},
   "source": [
    "You can now run below to train the linear model."
   ]
  },
  {
   "cell_type": "code",
   "execution_count": 6,
   "metadata": {
    "scrolled": true,
    "tags": []
   },
   "outputs": [
    {
     "name": "stdout",
     "output_type": "stream",
     "text": [
      "[Epoch 01] Loss: 8.0806\n",
      "[Epoch 02] Loss: 6.5220\n",
      "[Epoch 03] Loss: 5.7799\n",
      "[Epoch 04] Loss: 5.2369\n",
      "[Epoch 05] Loss: 4.8380\n",
      "[Epoch 06] Loss: 4.7067\n",
      "[Epoch 07] Loss: 4.3193\n",
      "[Epoch 08] Loss: 4.2321\n",
      "[Epoch 09] Loss: 4.0648\n",
      "[Epoch 10] Loss: 4.0157\n",
      "[Epoch 11] Loss: 4.2222\n",
      "[Epoch 12] Loss: 3.9879\n",
      "[Epoch 13] Loss: 4.0222\n",
      "[Epoch 14] Loss: 3.9404\n",
      "[Epoch 15] Loss: 3.7249\n",
      "[Epoch 16] Loss: 4.0374\n",
      "[Epoch 17] Loss: 3.6858\n",
      "[Epoch 18] Loss: 3.7794\n",
      "[Epoch 19] Loss: 3.6831\n",
      "[Epoch 20] Loss: 3.5942\n",
      "[Epoch 21] Loss: 3.6271\n",
      "[Epoch 22] Loss: 3.5566\n",
      "[Epoch 23] Loss: 3.5787\n",
      "[Epoch 24] Loss: 3.5712\n",
      "[Epoch 25] Loss: 3.7441\n",
      "[Epoch 26] Loss: 3.4729\n",
      "[Epoch 27] Loss: 3.6425\n",
      "[Epoch 28] Loss: 3.6070\n",
      "[Epoch 29] Loss: 3.4772\n",
      "[Epoch 30] Loss: 3.5034\n",
      "[Epoch 31] Loss: 3.4779\n",
      "[Epoch 32] Loss: 3.7539\n",
      "[Epoch 33] Loss: 3.4551\n",
      "[Epoch 34] Loss: 3.4849\n",
      "[Epoch 35] Loss: 3.6917\n",
      "[Epoch 36] Loss: 3.8038\n",
      "[Epoch 37] Loss: 3.5498\n",
      "[Epoch 38] Loss: 3.4851\n",
      "[Epoch 39] Loss: 3.4843\n",
      "[Epoch 40] Loss: 3.4993\n",
      "[Epoch 41] Loss: 3.9021\n",
      "[Epoch 42] Loss: 3.4558\n",
      "[Epoch 43] Loss: 3.4553\n",
      "[Epoch 44] Loss: 3.5477\n",
      "[Epoch 45] Loss: 3.4528\n",
      "[Epoch 46] Loss: 3.6003\n",
      "[Epoch 47] Loss: 3.5068\n",
      "[Epoch 48] Loss: 3.8070\n",
      "[Epoch 49] Loss: 3.8291\n",
      "[Epoch 50] Loss: 3.4571\n",
      "[Epoch 51] Loss: 3.7064\n",
      "[Epoch 52] Loss: 3.4926\n",
      "[Epoch 53] Loss: 3.4607\n",
      "[Epoch 54] Loss: 3.5838\n",
      "[Epoch 55] Loss: 3.5933\n",
      "[Epoch 56] Loss: 3.7625\n",
      "[Epoch 57] Loss: 3.5585\n",
      "[Epoch 58] Loss: 3.5289\n",
      "[Epoch 59] Loss: 3.4663\n",
      "[Epoch 60] Loss: 3.4480\n",
      "[Epoch 61] Loss: 3.4412\n",
      "[Epoch 62] Loss: 3.5449\n",
      "[Epoch 63] Loss: 3.4658\n",
      "[Epoch 64] Loss: 3.5226\n",
      "[Epoch 65] Loss: 3.4337\n",
      "[Epoch 66] Loss: 3.4490\n",
      "[Epoch 67] Loss: 3.4934\n",
      "[Epoch 68] Loss: 3.5616\n",
      "[Epoch 69] Loss: 3.6753\n",
      "[Epoch 70] Loss: 3.6145\n",
      "[Epoch 71] Loss: 3.4884\n",
      "[Epoch 72] Loss: 3.5291\n",
      "[Epoch 73] Loss: 3.4907\n",
      "[Epoch 74] Loss: 3.4876\n",
      "[Epoch 75] Loss: 3.6335\n",
      "[Epoch 76] Loss: 3.4745\n",
      "[Epoch 77] Loss: 3.6292\n",
      "[Epoch 78] Loss: 3.4466\n",
      "[Epoch 79] Loss: 3.4427\n",
      "[Epoch 80] Loss: 3.5192\n",
      "[Epoch 81] Loss: 3.4203\n",
      "[Epoch 82] Loss: 3.4564\n",
      "[Epoch 83] Loss: 3.4523\n",
      "[Epoch 84] Loss: 3.4588\n",
      "[Epoch 85] Loss: 3.5847\n",
      "[Epoch 86] Loss: 3.6405\n",
      "[Epoch 87] Loss: 3.4753\n",
      "[Epoch 88] Loss: 3.5516\n",
      "[Epoch 89] Loss: 3.4812\n",
      "[Epoch 90] Loss: 3.5002\n",
      "[Epoch 91] Loss: 3.4557\n",
      "[Epoch 92] Loss: 3.4860\n",
      "[Epoch 93] Loss: 3.5367\n",
      "[Epoch 94] Loss: 3.5215\n",
      "[Epoch 95] Loss: 3.4677\n",
      "[Epoch 96] Loss: 3.5748\n",
      "[Epoch 97] Loss: 3.6920\n",
      "[Epoch 98] Loss: 3.4282\n",
      "[Epoch 99] Loss: 3.6753\n",
      "[Epoch 100] Loss: 3.4303\n"
     ]
    }
   ],
   "source": [
    "NUM_EPOCHS = 100\n",
    "# create the network.\n",
    "net = LinearClassifier()\n",
    "\n",
    "# create the optimizer.\n",
    "optimizer = Adam(net.parameters(), lr=0.1)\n",
    "\n",
    "best_accuracy = 0\n",
    "for epoch_idx in range(NUM_EPOCHS):\n",
    "    loss = train(net, optimizer, train_dataloader, epoch_idx)\n",
    "    print('[Epoch %02d] Loss: %.4f' % (epoch_idx + 1, loss))"
   ]
  },
  {
   "cell_type": "markdown",
   "metadata": {},
   "source": [
    "Now plot your result below.\n"
   ]
  },
  {
   "cell_type": "code",
   "execution_count": 7,
   "metadata": {},
   "outputs": [
    {
     "data": {
      "image/png": "[encoded data removed]",
      "text/plain": [
       "<Figure size 432x288 with 1 Axes>"
      ]
     },
     "metadata": {
      "needs_background": "light"
     },
     "output_type": "display_data"
    },
    {
     "data": {
      "text/plain": [
       "<Figure size 432x288 with 0 Axes>"
      ]
     },
     "metadata": {},
     "output_type": "display_data"
    }
   ],
   "source": [
    "p = np.linspace(-0.5, 0.5, 500)\n",
    "x_plot, y_plot = np.meshgrid(p, p)\n",
    "X_plot = np.stack((x_plot, y_plot), axis=2).reshape(-1, 2)\n",
    "X_plot = torch.from_numpy(X_plot).float()\n",
    "output = net(X_plot)\n",
    "output = output.detach().numpy()\n",
    "output = output.reshape(x_plot.shape[0], x_plot.shape[1])\n",
    "\n",
    "plt.contour(x_plot, y_plot, output, [0.5],\n",
    "                  colors=('k',),\n",
    "                  linewidths=(3,))\n",
    "plot(X0, X1)\n"
   ]
  },
  {
   "cell_type": "markdown",
   "metadata": {},
   "source": [
    "### Implement your first multi-layer perceptron (MLP) for point cloud classification\n",
    "Now you should notice that your logistic regression model cannot classify the point cloud correctly, and this is as expected :)  \n",
    "Therefore, we now ask you to implement an MLP for the same binary classification task."
   ]
  },
  {
   "cell_type": "code",
   "execution_count": 8,
   "metadata": {},
   "outputs": [],
   "source": [
    "# These are the parameters to be used\n",
    "nInput = 2\n",
    "nOutput = 1\n",
    "nHidden = 16\n",
    "act_fn = nn.ReLU()\n",
    "\n",
    "class MLP(nn.Module):\n",
    "    def __init__(self, nInput, nOutput, nHidden, act_fn):\n",
    "        super().__init__()\n",
    "\n",
    "        # Define the network layers in order.\n",
    "        # Input is 2D (nInput).\n",
    "        # Output is a single value (nOutput).\n",
    "        # Multiple linear layers each followed by a ReLU non-linearity (apart from the last).\n",
    "        #########################################################################\n",
    "        # TODO: add a two-layer MLP, inside the `nn.Sequential` call.\n",
    "        # Input is 2D.\n",
    "        # Output is a single value.\n",
    "\n",
    "        # Hint: unlike logistic regression where you need only one nn.Linear layer, \n",
    "        # here you will have two nn.Linear layers. After the first layer, we \n",
    "        # apply a ReLU activation function. The output is then passed to another \n",
    "        # linear layer. Note that you should use `nHidden` below as the hidden dimension \n",
    "        # of your linear layers.\n",
    "        #########################################################################\n",
    "        self.model = nn.Sequential(\n",
    "            nn.Linear(nInput,nHidden),\n",
    "            nn.ReLU(),\n",
    "            nn.Linear(nHidden,nOutput),)\n",
    "        \n",
    "    def forward(self, batch):\n",
    "        # Process batch using the defined model.\n",
    "        x = self.model(batch)\n",
    "        # Final sigmoid activation to obtain a probability.\n",
    "        return torch.sigmoid(x)\n"
   ]
  },
  {
   "cell_type": "markdown",
   "metadata": {},
   "source": [
    "Run below again!"
   ]
  },
  {
   "cell_type": "code",
   "execution_count": 12,
   "metadata": {},
   "outputs": [
    {
     "name": "stdout",
     "output_type": "stream",
     "text": [
      "[Epoch 01] Loss: 7.7016\n",
      "[Epoch 02] Loss: 5.0345\n",
      "[Epoch 03] Loss: 3.8268\n",
      "[Epoch 04] Loss: 3.8472\n",
      "[Epoch 05] Loss: 3.6267\n",
      "[Epoch 06] Loss: 3.5530\n",
      "[Epoch 07] Loss: 3.0079\n",
      "[Epoch 08] Loss: 2.6076\n",
      "[Epoch 09] Loss: 2.2472\n",
      "[Epoch 10] Loss: 2.2346\n",
      "[Epoch 11] Loss: 1.7248\n",
      "[Epoch 12] Loss: 1.5582\n",
      "[Epoch 13] Loss: 1.3686\n",
      "[Epoch 14] Loss: 1.2066\n",
      "[Epoch 15] Loss: 0.9589\n",
      "[Epoch 16] Loss: 0.8207\n",
      "[Epoch 17] Loss: 0.9061\n",
      "[Epoch 18] Loss: 0.7389\n",
      "[Epoch 19] Loss: 0.5411\n",
      "[Epoch 20] Loss: 0.5652\n",
      "[Epoch 21] Loss: 0.4149\n",
      "[Epoch 22] Loss: 0.3665\n",
      "[Epoch 23] Loss: 0.3944\n",
      "[Epoch 24] Loss: 0.3136\n",
      "[Epoch 25] Loss: 0.5442\n",
      "[Epoch 26] Loss: 0.4403\n",
      "[Epoch 27] Loss: 0.2364\n",
      "[Epoch 28] Loss: 0.3093\n",
      "[Epoch 29] Loss: 0.3254\n",
      "[Epoch 30] Loss: 0.2279\n",
      "[Epoch 31] Loss: 0.3194\n",
      "[Epoch 32] Loss: 0.8092\n",
      "[Epoch 33] Loss: 0.2082\n",
      "[Epoch 34] Loss: 0.3420\n",
      "[Epoch 35] Loss: 0.2945\n",
      "[Epoch 36] Loss: 0.1883\n",
      "[Epoch 37] Loss: 0.1042\n",
      "[Epoch 38] Loss: 0.1576\n",
      "[Epoch 39] Loss: 0.1502\n",
      "[Epoch 40] Loss: 0.1358\n",
      "[Epoch 41] Loss: 0.1816\n",
      "[Epoch 42] Loss: 0.3151\n",
      "[Epoch 43] Loss: 0.2901\n",
      "[Epoch 44] Loss: 0.1297\n",
      "[Epoch 45] Loss: 0.1299\n",
      "[Epoch 46] Loss: 0.1878\n",
      "[Epoch 47] Loss: 0.1272\n",
      "[Epoch 48] Loss: 0.1409\n",
      "[Epoch 49] Loss: 0.1193\n",
      "[Epoch 50] Loss: 0.0617\n",
      "[Epoch 51] Loss: 0.0577\n",
      "[Epoch 52] Loss: 0.0659\n",
      "[Epoch 53] Loss: 0.0701\n",
      "[Epoch 54] Loss: 0.0684\n",
      "[Epoch 55] Loss: 0.0533\n",
      "[Epoch 56] Loss: 0.0492\n",
      "[Epoch 57] Loss: 0.0388\n",
      "[Epoch 58] Loss: 0.0395\n",
      "[Epoch 59] Loss: 0.0327\n",
      "[Epoch 60] Loss: 0.0341\n",
      "[Epoch 61] Loss: 0.0356\n",
      "[Epoch 62] Loss: 0.0347\n",
      "[Epoch 63] Loss: 0.0291\n",
      "[Epoch 64] Loss: 0.0304\n",
      "[Epoch 65] Loss: 0.0286\n",
      "[Epoch 66] Loss: 0.0306\n",
      "[Epoch 67] Loss: 0.0321\n",
      "[Epoch 68] Loss: 0.0276\n",
      "[Epoch 69] Loss: 0.0259\n",
      "[Epoch 70] Loss: 0.0320\n",
      "[Epoch 71] Loss: 0.0251\n",
      "[Epoch 72] Loss: 0.0246\n",
      "[Epoch 73] Loss: 0.0274\n",
      "[Epoch 74] Loss: 0.0309\n",
      "[Epoch 75] Loss: 0.0240\n",
      "[Epoch 76] Loss: 0.0264\n",
      "[Epoch 77] Loss: 0.0226\n",
      "[Epoch 78] Loss: 0.0364\n",
      "[Epoch 79] Loss: 0.0218\n",
      "[Epoch 80] Loss: 0.0288\n",
      "[Epoch 81] Loss: 0.0218\n",
      "[Epoch 82] Loss: 0.0267\n",
      "[Epoch 83] Loss: 0.0216\n",
      "[Epoch 84] Loss: 0.0193\n",
      "[Epoch 85] Loss: 0.0198\n",
      "[Epoch 86] Loss: 0.0192\n",
      "[Epoch 87] Loss: 0.0175\n",
      "[Epoch 88] Loss: 0.0173\n",
      "[Epoch 89] Loss: 0.0169\n",
      "[Epoch 90] Loss: 0.0170\n",
      "[Epoch 91] Loss: 0.0184\n",
      "[Epoch 92] Loss: 0.0164\n",
      "[Epoch 93] Loss: 0.0162\n",
      "[Epoch 94] Loss: 0.0173\n",
      "[Epoch 95] Loss: 0.0154\n",
      "[Epoch 96] Loss: 0.0151\n",
      "[Epoch 97] Loss: 0.0146\n",
      "[Epoch 98] Loss: 0.0142\n",
      "[Epoch 99] Loss: 0.0220\n",
      "[Epoch 100] Loss: 0.0139\n",
      "[Epoch 101] Loss: 0.0199\n",
      "[Epoch 102] Loss: 0.0193\n",
      "[Epoch 103] Loss: 0.0137\n",
      "[Epoch 104] Loss: 0.0139\n",
      "[Epoch 105] Loss: 0.0125\n",
      "[Epoch 106] Loss: 0.0127\n",
      "[Epoch 107] Loss: 0.0128\n",
      "[Epoch 108] Loss: 0.0125\n",
      "[Epoch 109] Loss: 0.0121\n",
      "[Epoch 110] Loss: 0.0124\n",
      "[Epoch 111] Loss: 0.0112\n",
      "[Epoch 112] Loss: 0.0118\n",
      "[Epoch 113] Loss: 0.0111\n",
      "[Epoch 114] Loss: 0.0123\n",
      "[Epoch 115] Loss: 0.0116\n",
      "[Epoch 116] Loss: 0.0115\n",
      "[Epoch 117] Loss: 0.0136\n",
      "[Epoch 118] Loss: 0.0201\n",
      "[Epoch 119] Loss: 0.0253\n",
      "[Epoch 120] Loss: 0.0109\n",
      "[Epoch 121] Loss: 0.0226\n",
      "[Epoch 122] Loss: 0.0186\n",
      "[Epoch 123] Loss: 0.0124\n",
      "[Epoch 124] Loss: 0.0109\n",
      "[Epoch 125] Loss: 0.0099\n",
      "[Epoch 126] Loss: 0.0106\n",
      "[Epoch 127] Loss: 0.0095\n",
      "[Epoch 128] Loss: 0.0088\n",
      "[Epoch 129] Loss: 0.0087\n",
      "[Epoch 130] Loss: 0.0083\n",
      "[Epoch 131] Loss: 0.0082\n",
      "[Epoch 132] Loss: 0.0081\n",
      "[Epoch 133] Loss: 0.0074\n",
      "[Epoch 134] Loss: 0.0080\n",
      "[Epoch 135] Loss: 0.0080\n",
      "[Epoch 136] Loss: 0.0072\n",
      "[Epoch 137] Loss: 0.0076\n",
      "[Epoch 138] Loss: 0.0073\n",
      "[Epoch 139] Loss: 0.0072\n",
      "[Epoch 140] Loss: 0.0073\n",
      "[Epoch 141] Loss: 0.0067\n",
      "[Epoch 142] Loss: 0.0073\n",
      "[Epoch 143] Loss: 0.0074\n",
      "[Epoch 144] Loss: 0.0066\n",
      "[Epoch 145] Loss: 0.0069\n",
      "[Epoch 146] Loss: 0.0083\n",
      "[Epoch 147] Loss: 0.0063\n",
      "[Epoch 148] Loss: 0.0064\n",
      "[Epoch 149] Loss: 0.0063\n",
      "[Epoch 150] Loss: 0.0077\n",
      "[Epoch 151] Loss: 0.0061\n",
      "[Epoch 152] Loss: 0.0062\n",
      "[Epoch 153] Loss: 0.0059\n",
      "[Epoch 154] Loss: 0.0064\n",
      "[Epoch 155] Loss: 0.0061\n",
      "[Epoch 156] Loss: 0.0057\n",
      "[Epoch 157] Loss: 0.0058\n",
      "[Epoch 158] Loss: 0.0053\n",
      "[Epoch 159] Loss: 0.0068\n",
      "[Epoch 160] Loss: 0.0060\n",
      "[Epoch 161] Loss: 0.0061\n",
      "[Epoch 162] Loss: 0.0065\n",
      "[Epoch 163] Loss: 0.0060\n",
      "[Epoch 164] Loss: 0.0053\n",
      "[Epoch 165] Loss: 0.0054\n",
      "[Epoch 166] Loss: 0.0054\n",
      "[Epoch 167] Loss: 0.0049\n",
      "[Epoch 168] Loss: 0.0050\n",
      "[Epoch 169] Loss: 0.0047\n",
      "[Epoch 170] Loss: 0.0049\n",
      "[Epoch 171] Loss: 0.0052\n",
      "[Epoch 172] Loss: 0.0058\n",
      "[Epoch 173] Loss: 0.0045\n",
      "[Epoch 174] Loss: 0.0047\n",
      "[Epoch 175] Loss: 0.0052\n",
      "[Epoch 176] Loss: 0.0045\n",
      "[Epoch 177] Loss: 0.0048\n",
      "[Epoch 178] Loss: 0.0047\n",
      "[Epoch 179] Loss: 0.0043\n",
      "[Epoch 180] Loss: 0.0042\n",
      "[Epoch 181] Loss: 0.0040\n",
      "[Epoch 182] Loss: 0.0042\n",
      "[Epoch 183] Loss: 0.0042\n",
      "[Epoch 184] Loss: 0.0045\n",
      "[Epoch 185] Loss: 0.0040\n",
      "[Epoch 186] Loss: 0.0047\n",
      "[Epoch 187] Loss: 0.0051\n",
      "[Epoch 188] Loss: 0.0043\n",
      "[Epoch 189] Loss: 0.0040\n",
      "[Epoch 190] Loss: 0.0040\n",
      "[Epoch 191] Loss: 0.0038\n",
      "[Epoch 192] Loss: 0.0037\n",
      "[Epoch 193] Loss: 0.0039\n",
      "[Epoch 194] Loss: 0.0036\n",
      "[Epoch 195] Loss: 0.0044\n",
      "[Epoch 196] Loss: 0.0038\n",
      "[Epoch 197] Loss: 0.0037\n",
      "[Epoch 198] Loss: 0.0037\n",
      "[Epoch 199] Loss: 0.0035\n",
      "[Epoch 200] Loss: 0.0035\n"
     ]
    }
   ],
   "source": [
    "NUM_EPOCHS = 200\n",
    "\n",
    "# create the network.\n",
    "net = MLP(nInput, nOutput, nHidden, act_fn)\n",
    "\n",
    "# create the optimizer.\n",
    "optimizer = Adam(net.parameters(), lr=0.1)\n",
    "\n",
    "best_accuracy = 0\n",
    "for epoch_idx in range(NUM_EPOCHS):\n",
    "    loss = train(net, optimizer, train_dataloader, epoch_idx)\n",
    "    print('[Epoch %02d] Loss: %.4f' % (epoch_idx + 1, loss))"
   ]
  },
  {
   "cell_type": "markdown",
   "metadata": {},
   "source": [
    "Again plot your result. You should see that the decision boundary can clearly separate the point clouds.\n"
   ]
  },
  {
   "cell_type": "code",
   "execution_count": 13,
   "metadata": {},
   "outputs": [
    {
     "data": {
      "image/png": "[encoded data removed]",
      "text/plain": [
       "<Figure size 432x288 with 1 Axes>"
      ]
     },
     "metadata": {
      "needs_background": "light"
     },
     "output_type": "display_data"
    },
    {
     "data": {
      "text/plain": [
       "<Figure size 432x288 with 0 Axes>"
      ]
     },
     "metadata": {},
     "output_type": "display_data"
    }
   ],
   "source": [
    "p = np.linspace(-0.5, 0.5, 500)\n",
    "x_plot, y_plot = np.meshgrid(p, p)\n",
    "X_plot = np.stack((x_plot, y_plot), axis=2).reshape(-1, 2)\n",
    "X_plot = torch.from_numpy(X_plot).float()\n",
    "output = net(X_plot)\n",
    "output = output.detach().numpy()\n",
    "output = output.reshape(x_plot.shape[0], x_plot.shape[1])\n",
    "\n",
    "plt.contour(x_plot, y_plot, output, [0.5],\n",
    "                  colors=('k',),\n",
    "                  linewidths=(3,))\n",
    "plot(X0, X1)"
   ]
  },
  {
   "cell_type": "markdown",
   "metadata": {},
   "source": [
    "When you are done, move forward to `image_classification.ipynb`."
   ]
  },
  {
   "cell_type": "markdown",
   "metadata": {},
   "source": []
  }
 ],
 "metadata": {
  "kernelspec": {
   "display_name": "Python 3 (ipykernel)",
   "language": "python",
   "name": "python3"
  },
  "language_info": {
   "codemirror_mode": {
    "name": "ipython",
    "version": 3
   },
   "file_extension": ".py",
   "mimetype": "text/x-python",
   "name": "python",
   "nbconvert_exporter": "python",
   "pygments_lexer": "ipython3",
   "version": "3.10.5"
  },
  "vscode": {
   "interpreter": {
    "hash": "d268b61a0efacafa8645774cb6d0204c9f01d7563ef03f7672146d044e8f345c"
   }
  }
 },
 "nbformat": 4,
 "nbformat_minor": 4
}
